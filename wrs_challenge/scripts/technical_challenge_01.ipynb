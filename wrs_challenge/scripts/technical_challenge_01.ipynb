{
 "cells": [
  {
   "cell_type": "code",
   "execution_count": null,
   "metadata": {},
   "outputs": [],
   "source": [
    "%%script bash\n",
    "sudo apt-get update && sudo apt-get install -y ros-melodic-rospy-message-converter"
   ]
  },
  {
   "cell_type": "code",
   "execution_count": null,
   "metadata": {},
   "outputs": [],
   "source": [
    "%%script bash\n",
    "pip install scipy scikit-learn colour shapely aabbtree future matplotlib opencv-contrib-python==4.0.0.21"
   ]
  },
  {
   "cell_type": "code",
   "execution_count": null,
   "metadata": {},
   "outputs": [],
   "source": [
    "%%script bash --bg\n",
    "rviz -d /workspace/notebooks/data/3_navigation.rviz > /dev/null 2>&1"
   ]
  },
  {
   "cell_type": "code",
   "execution_count": 1,
   "metadata": {},
   "outputs": [],
   "source": [
    "%matplotlib inline\n",
    "import matplotlib.pyplot as plt"
   ]
  },
  {
   "cell_type": "code",
   "execution_count": 3,
   "metadata": {},
   "outputs": [
    {
     "name": "stdout",
     "output_type": "stream",
     "text": [
      "[INFO] [1624808057.864274, 1854.018000]: Simulation started\n",
      "[INFO] [1624808058.033491, 1854.120000]: Imports done, robot initialized.\n"
     ]
    }
   ],
   "source": [
    "import math\n",
    "\n",
    "import os\n",
    "\n",
    "import tf\n",
    "\n",
    "import sys\n",
    "\n",
    "import threading\n",
    "\n",
    "import rospy\n",
    "rospy.init_node(\"go_and_get_it_01\")\n",
    "\n",
    "\n",
    "# Wait for Gazebo to actually properly start...\n",
    "import time\n",
    "while rospy.Time.now() == rospy.Time():\n",
    "    rospy.loginfo(\"Simulation paused/stalled\")\n",
    "    time.sleep(0.1)\n",
    "rospy.loginfo(\"Simulation started\")\n",
    "    \n",
    "from rospy_message_converter import json_message_converter\n",
    "\n",
    "\n",
    "from geometry_msgs.msg import Pose, PointStamped\n",
    "\n",
    "from shapely.geometry import MultiPoint, Polygon, Point\n",
    "\n",
    "\n",
    "import utils\n",
    "\n",
    "robot = utils.Robot()\n",
    "scene = utils.Scene(start_on_init=False)\n",
    "message_parser = utils.MessageParser()\n",
    "\n",
    "rospy.loginfo(\"Imports done, robot initialized.\")"
   ]
  },
  {
   "cell_type": "code",
   "execution_count": 4,
   "metadata": {},
   "outputs": [
    {
     "data": {
      "text/plain": [
       "<utils.NavGoalToJsonFileSaver instance at 0x7fa96e50f6e0>"
      ]
     },
     "execution_count": 4,
     "metadata": {},
     "output_type": "execute_result"
    }
   ],
   "source": [
    "utils.NavGoalToJsonFileSaver(\"saved_msg.json\")"
   ]
  },
  {
   "cell_type": "code",
   "execution_count": 5,
   "metadata": {},
   "outputs": [
    {
     "name": "stdout",
     "output_type": "stream",
     "text": [
      "{}\n"
     ]
    }
   ],
   "source": [
    "with open(\"saved_msg.json\") as f:\n",
    "    print(f.read())"
   ]
  },
  {
   "cell_type": "code",
   "execution_count": null,
   "metadata": {},
   "outputs": [],
   "source": [
    "# in_front_drawers_goal_str = '{\"header\": {\"stamp\": {\"secs\": 69, \"nsecs\": 237000000}, \"frame_id\": \"\", \"seq\": 2}, \"goal_id\": {\"stamp\": {\"secs\": 0, \"nsecs\": 0}, \"id\": \"\"}, \"goal\": {\"target_pose\": {\"header\": {\"stamp\": {\"secs\": 69, \"nsecs\": 228000000}, \"frame_id\": \"map\", \"seq\": 2}, \"pose\": {\"position\": {\"y\": 0.5999923944473267, \"x\": 0.24766463041305542, \"z\": 0.0}, \"orientation\": {\"y\": 0.0, \"x\": 0.0, \"z\": -0.7189345607475961, \"w\": 0.6950777635363263}}}}}'\n",
    "# in_front_drawers_goal = json_message_converter.convert_json_to_ros_message('move_base_msgs/MoveBaseActionGoal', in_front_drawers_goal_str).goal\n",
    "# robot.move_base_actual_goal(in_front_drawers_goal)"
   ]
  },
  {
   "cell_type": "code",
   "execution_count": null,
   "metadata": {},
   "outputs": [],
   "source": [
    "# robot.open_hand()\n",
    "# READY_FOR_BOTTOM_DRAWERS_ARM_JOINTS = [.25] + [math.radians(a) for a in [-150., 0., 60., 0., 0.]]\n",
    "# robot.arm.set_joint_value_target(READY_FOR_BOTTOM_DRAWERS_ARM_JOINTS)\n",
    "# robot.arm.go()"
   ]
  },
  {
   "cell_type": "code",
   "execution_count": null,
   "metadata": {},
   "outputs": [],
   "source": [
    "# GRASP_RIGHT_BOTTOM_RIGHT_DRAWER_BASE_JOINTS = [0.14590200293468028, 0.09235241684400744, -1.4923558765834182]\n",
    "# robot.base.set_joint_value_target(GRASP_RIGHT_BOTTOM_RIGHT_DRAWER_BASE_JOINTS)\n",
    "# robot.base.go()\n",
    "# robot.close_hand()"
   ]
  },
  {
   "cell_type": "code",
   "execution_count": null,
   "metadata": {},
   "outputs": [],
   "source": [
    "# PULL_RIGHT_BOTTOM_RIGHT_DRAWER_BASE_JOINTS = [0.448629245701104, 0.08066860734930102, -1.511430367700255]\n",
    "# robot.base.set_joint_value_target(PULL_RIGHT_BOTTOM_RIGHT_DRAWER_BASE_JOINTS)\n",
    "# robot.base.go()\n",
    "# robot.open_hand()"
   ]
  },
  {
   "cell_type": "code",
   "execution_count": null,
   "metadata": {},
   "outputs": [],
   "source": [
    "def get_chosen_object(cur_objects, previous_convex_footprints, pose_z_min, pose_z_max, xy_polygon):\n",
    "    chosen_object = None\n",
    "    # Choose closest object that fits in robot's hand by default otherwise\n",
    "    uid_by_distance = []\n",
    "    for uid, obj in cur_objects.items():\n",
    "        if obj.circumscribed_radius <= robot.GRASP_RADIUS:\n",
    "            intersects = False\n",
    "            convex_footprint = obj.convex_footprint\n",
    "            point = Point([obj.pose[0], obj.pose[1]])\n",
    "            if pose_z_min <= obj.pose[2] <= pose_z_max and point.intersects(xy_polygon):\n",
    "                for prev_cv_ft in previous_convex_footprints:\n",
    "                    if prev_cv_ft.intersects(convex_footprint):\n",
    "                        intersects = True\n",
    "                        break\n",
    "                if not intersects:\n",
    "                    x, _= robot.get_diff_between(\"base_link\", obj.name)\n",
    "                    uid_by_distance.append((uid, x))\n",
    "\n",
    "    uid_by_distance = sorted(uid_by_distance, key=lambda tup: tup[1])\n",
    "    if uid_by_distance:\n",
    "        chosen_object = cur_objects[uid_by_distance[0][0]]\n",
    "        \n",
    "    return chosen_object, uid_by_distance"
   ]
  },
  {
   "cell_type": "code",
   "execution_count": null,
   "metadata": {},
   "outputs": [],
   "source": [
    "def pick_object_away(obj, joints_for_hovering, lowest_arm_height):\n",
    "    # Move head to prevent arm movement failures\n",
    "    robot.move_head_tilt(0.)\n",
    "    \n",
    "    # Save joints for initial pose\n",
    "    joints_for_going_back_to_init_pose = robot.base.get_current_joint_values()\n",
    "\n",
    "    # Compute angle for robot base to face arm parallel direction between base_link and object\n",
    "    o_x, o_y = robot.get_diff_between(\"base_link\", obj.name)\n",
    "    yaw = math.pi/2. - math.atan2(o_x, o_y)\n",
    "\n",
    "    joints_for_facing_object = robot.base.get_current_joint_values()\n",
    "    joints_for_facing_object[2] += yaw\n",
    "\n",
    "    robot.base.set_joint_value_target(joints_for_facing_object)\n",
    "    robot.base.go()\n",
    "\n",
    "    # Set to picking pose\n",
    "    robot.arm.set_joint_value_target(joints_for_hovering)\n",
    "    is_success = robot.arm.go()\n",
    "    robot.open_hand()\n",
    "\n",
    "    # Compute translation for robot base to actually face the object\n",
    "    a_x, a_y = robot.get_diff_between(\"base_link\", \"arm_flex_link\")\n",
    "\n",
    "    robot.tf_listener.waitForTransform(\"/base_link\", \"/odom\", rospy.Time(0),rospy.Duration(4.0))\n",
    "    point=PointStamped()\n",
    "    point.header.frame_id = \"base_link\"\n",
    "    point.header.stamp =rospy.Time(0)\n",
    "    point.point.y= -a_y\n",
    "    p=robot.tf_listener.transformPoint(\"odom\", point)\n",
    "\n",
    "    joints_for_going_to_object = robot.base.get_current_joint_values()\n",
    "    joints_for_going_to_object[0] = p.point.y\n",
    "    joints_for_going_to_object[1] = p.point.x\n",
    "\n",
    "    robot.base.set_joint_value_target(joints_for_going_to_object)\n",
    "    robot.base.go()\n",
    "\n",
    "    # Compute translation for robot base to get the object and get it\n",
    "    oo_x, oo_y = robot.get_diff_between(\"odom\", obj.name)\n",
    "    ho_x, ho_y = robot.get_diff_between(\"odom\", \"hand_palm_link\")\n",
    "\n",
    "    joints_for_catching_to_object = robot.base.get_current_joint_values()\n",
    "    joints_for_catching_to_object[0] += oo_y - ho_y\n",
    "    joints_for_catching_to_object[1] += oo_x - ho_x\n",
    "\n",
    "    robot.base.set_joint_value_target(joints_for_catching_to_object)\n",
    "    robot.base.go()\n",
    "    \n",
    "    # Lower arm\n",
    "    robot.tf_listener.waitForTransform(\"map\", \"hand_palm_link\", rospy.Time(0),rospy.Duration(4.0))\n",
    "    transform = robot.tf_listener.lookupTransform(\"map\", \"hand_palm_link\", rospy.Time(0))\n",
    "    z_diff = transform[0][2] - obj.xyz_max[2]\n",
    "\n",
    "    joints_for_lower_arm = robot.arm.get_current_joint_values()\n",
    "    if joints_for_lower_arm[0] - z_diff > 0.:\n",
    "        joints_for_lower_arm[0] -= z_diff\n",
    "    else:\n",
    "        joints_for_lower_arm[0] = lowest_arm_height\n",
    "    print(\"lowest_arm_height: {}\".format(lowest_arm_height))\n",
    "    print(\"robot.arm.get_current_joint_values(): {}\".format(robot.arm.get_current_joint_values()))\n",
    "    print(\"joints_for_lower_arm: {}\".format(joints_for_lower_arm))\n",
    "    robot.arm.set_joint_value_target(joints_for_lower_arm)\n",
    "    robot.arm.go()\n",
    "    \n",
    "    # Pick\n",
    "    robot.close_hand()\n",
    "    \n",
    "    # Move arm up\n",
    "    robot.arm.set_joint_value_target(joints_for_hovering)\n",
    "    robot.arm.go()\n",
    "\n",
    "    # Move back to init pose\n",
    "    joints_for_going_back_to_init_pose_trans = robot.base.get_current_joint_values()\n",
    "    joints_for_going_back_to_init_pose_trans[0] = joints_for_going_back_to_init_pose[0]\n",
    "    joints_for_going_back_to_init_pose_trans[1] = joints_for_going_back_to_init_pose[1]\n",
    "    robot.base.set_joint_value_target(joints_for_going_back_to_init_pose_trans)\n",
    "    robot.base.go()\n",
    "    \n",
    "    joints_for_going_back_to_init_pose_rot = robot.base.get_current_joint_values()\n",
    "    joints_for_going_back_to_init_pose_rot[2] = joints_for_going_back_to_init_pose[2]\n",
    "    robot.base.set_joint_value_target(joints_for_going_back_to_init_pose_rot)\n",
    "    robot.base.go()\n",
    "\n",
    "    # Keep it close to your heart\n",
    "    robot.move_arm_init()\n",
    "\n",
    "    if robot.is_hand_fully_closed():\n",
    "        return False\n",
    "\n",
    "    return True"
   ]
  },
  {
   "cell_type": "code",
   "execution_count": null,
   "metadata": {},
   "outputs": [],
   "source": [
    "def map_xy_to_frame_xy(coord, target_frame):\n",
    "    robot.tf_listener.waitForTransform(target_frame, \"/map\", rospy.Time(0),rospy.Duration(4.0))\n",
    "    point=PointStamped()\n",
    "    point.header.frame_id = \"map\"\n",
    "    point.header.stamp =rospy.Time(0)\n",
    "    point.point.x=coord[0]\n",
    "    point.point.y=coord[1]\n",
    "    p=robot.tf_listener.transformPoint(target_frame, point)\n",
    "    return p.point.x, p.point.y"
   ]
  },
  {
   "cell_type": "code",
   "execution_count": null,
   "metadata": {},
   "outputs": [],
   "source": [
    "def put_object_down_at_place(obj, goal_point, height):\n",
    "    # Move head to prevent arm movement failures\n",
    "    robot.move_head_tilt(0.)\n",
    "    \n",
    "    # Save joints for initial pose\n",
    "    joints_for_going_back_to_init_pose = robot.base.get_current_joint_values()\n",
    "    \n",
    "    # Put arm forward    \n",
    "    joints_for_placing_arm_above = [height] + [math.radians(a) for a in [-90., 0., -90., 0., 0.]]\n",
    "    robot.arm.set_joint_value_target(joints_for_placing_arm_above)\n",
    "    robot.arm.go()\n",
    "    \n",
    "\n",
    "    # Compute angle for robot base to face arm parallel direction between base_link and object\n",
    "    o_x, o_y = map_xy_to_frame_xy(goal_point, \"base_link\")\n",
    "    yaw = math.pi/2. - math.atan2(o_x, o_y)\n",
    "\n",
    "    joints_for_facing_object = robot.base.get_current_joint_values()\n",
    "    joints_for_facing_object[2] += yaw\n",
    "\n",
    "    robot.base.set_joint_value_target(joints_for_facing_object)\n",
    "    robot.base.go()\n",
    "    \n",
    "    # Compute translation for robot base to actually face the object\n",
    "    a_x, a_y = robot.get_diff_between(\"base_link\", \"arm_flex_link\")\n",
    "\n",
    "    robot.tf_listener.waitForTransform(\"/base_link\", \"/odom\", rospy.Time(0),rospy.Duration(4.0))\n",
    "    point=PointStamped()\n",
    "    point.header.frame_id = \"base_link\"\n",
    "    point.header.stamp =rospy.Time(0)\n",
    "    point.point.y= -a_y\n",
    "    p=robot.tf_listener.transformPoint(\"odom\", point)\n",
    "\n",
    "    joints_for_going_to_object = robot.base.get_current_joint_values()\n",
    "    joints_for_going_to_object[0] = p.point.y\n",
    "    joints_for_going_to_object[1] = p.point.x\n",
    "\n",
    "    robot.base.set_joint_value_target(joints_for_going_to_object)\n",
    "    robot.base.go()\n",
    "    \n",
    "    # Compute translation for robot base to get the object and get it\n",
    "    oo_x, oo_y = map_xy_to_frame_xy(goal_point, \"odom\")\n",
    "    ho_x, ho_y = robot.get_diff_between(\"odom\", \"hand_palm_link\")\n",
    "\n",
    "    joints_for_catching_to_object = robot.base.get_current_joint_values()\n",
    "    joints_for_catching_to_object[0] += oo_y - ho_y\n",
    "    joints_for_catching_to_object[1] += oo_x - ho_x\n",
    "\n",
    "    robot.base.set_joint_value_target(joints_for_catching_to_object)\n",
    "    robot.base.go()\n",
    "    \n",
    "    # # Lower arm if necessary\n",
    "    # robot.tf_listener.waitForTransform(\"map\", \"hand_palm_link\", rospy.Time(0),rospy.Duration(4.0))\n",
    "    # transform = robot.tf_listener.lookupTransform(\"map\", \"hand_palm_link\", rospy.Time(0))\n",
    "    # z_diff = transform[0][2] - obj.xyz_max[2]\n",
    "\n",
    "    # joints_for_lower_arm_picking_from_ground = robot.arm.get_current_joint_values()\n",
    "    # z_diff = 0. if joints_for_lower_arm_picking_from_ground[0] - z_diff < 0. else z_diff\n",
    "    # joints_for_lower_arm_picking_from_ground = robot.arm.get_current_joint_values()\n",
    "    # joints_for_lower_arm_picking_from_ground[0] -= z_diff\n",
    "    # robot.arm.set_joint_value_target(joints_for_lower_arm_picking_from_ground)\n",
    "    # robot.arm.go()\n",
    "    \n",
    "    # Place\n",
    "    robot.open_hand()\n",
    "    robot.shake_wrist()\n",
    "    \n",
    "    # Move arm up\n",
    "    robot.arm.set_joint_value_target(joints_for_placing_arm_above)\n",
    "    robot.arm.go()\n",
    "    \n",
    "    # Close hand, the object should long have fallen\n",
    "    robot.close_hand()\n",
    "\n",
    "    # Move back to init pose\n",
    "    joints_for_going_back_to_init_pose_trans = robot.base.get_current_joint_values()\n",
    "    joints_for_going_back_to_init_pose_trans[0] = joints_for_going_back_to_init_pose[0]\n",
    "    joints_for_going_back_to_init_pose_trans[1] = joints_for_going_back_to_init_pose[1]\n",
    "    robot.base.set_joint_value_target(joints_for_going_back_to_init_pose_trans)\n",
    "    robot.base.go()\n",
    "\n",
    "    joints_for_going_back_to_init_pose_rot = robot.base.get_current_joint_values()\n",
    "    joints_for_going_back_to_init_pose_rot[2] = joints_for_going_back_to_init_pose[2]\n",
    "    robot.base.set_joint_value_target(joints_for_going_back_to_init_pose_rot)\n",
    "    robot.base.go()\n",
    "\n",
    "    # Set arm back to init\n",
    "    robot.move_arm_init()"
   ]
  },
  {
   "cell_type": "code",
   "execution_count": null,
   "metadata": {},
   "outputs": [],
   "source": [
    "# \"Tray_A\", \"Tray_B\", \"Container_A\", \"Container_B\", \"Drawer_top\", \"Drawer_bottom\", \"Drawer_left\", \"Bin_A\", \"Bin_B\"\n",
    "tray_a_counter = 0\n",
    "tray_b_counter = 0\n",
    "\n",
    "def choose_object_destination(obj):\n",
    "    deposit_area_names = []\n",
    "    if obj.label:\n",
    "        deposit_area_names = message_parser.get_deposit(obj.label)\n",
    "    \n",
    "    if deposit_area_names:\n",
    "        if \"Bin_A\" in deposit_area_names:\n",
    "            return utils.IN_FRONT_BINS_GOAL, utils.BIN_A_1[0], utils.HEIGHT_ABOVE_BINS\n",
    "        elif \"Container_A\" in deposit_area_names:\n",
    "            return utils.IN_FRONT_DEPOSIT_TABLE_GOAL, utils.CONTAINER_A_1[0], utils.HEIGHT_ABOVE_CONTAINER_A\n",
    "        elif \"Tray_A\" in deposit_area_names or \"Tray_B\" in deposit_area_names:\n",
    "            if len(deposit_area_names) == 1:\n",
    "                if deposit_area_names[0] == \"Tray_A\":\n",
    "                    return utils.IN_FRONT_DEPOSIT_TABLE_GOAL, utils.TRAY_A_1[0], utils.HEIGHT_ABOVE_TRAYS\n",
    "                elif deposit_area_names[0] == \"Tray_B\":\n",
    "                    return utils.IN_FRONT_DEPOSIT_TABLE_GOAL, utils.TRAY_B_1[0], utils.HEIGHT_ABOVE_TRAYS\n",
    "            else:\n",
    "                if tray_a_counter < tray_b_counter:\n",
    "                    return utils.IN_FRONT_DEPOSIT_TABLE_GOAL, utils.TRAY_A_1[0], utils.HEIGHT_ABOVE_TRAYS\n",
    "                else:\n",
    "                    return utils.IN_FRONT_DEPOSIT_TABLE_GOAL, utils.TRAY_B_1[0], utils.HEIGHT_ABOVE_TRAYS\n",
    "    \n",
    "    # By default, everything goes to the BIN_B (black)\n",
    "    return utils.IN_FRONT_BINS_GOAL, utils.BIN_B_1[0], utils.HEIGHT_ABOVE_BINS\n",
    "    "
   ]
  },
  {
   "cell_type": "code",
   "execution_count": 6,
   "metadata": {},
   "outputs": [
    {
     "name": "stdout",
     "output_type": "stream",
     "text": [
      "[INFO] [1624808079.727216, 1867.338000]: Movement started after 31 minutes and 7 seconds. Simulation will run for 14 minutes and 50 seconds.\n",
      "[INFO] [1624808079.731968, 1867.380000]: Moving to observation point.\n",
      "[INFO] [1624808122.486881, 1892.895000]: Moved to observation point.\n",
      "[INFO] [1624808125.583018, 1894.653000]: Observing...\n",
      "[INFO] [1624808125.744550, 1894.737000]: Cloud Callback called.\n"
     ]
    },
    {
     "name": "stderr",
     "output_type": "stream",
     "text": [
      "/usr/local/lib/python2.7/dist-packages/numpy/lib/function_base.py:3405: RuntimeWarning: Invalid value encountered in median\n",
      "  r = func(a, **kwargs)\n"
     ]
    },
    {
     "name": "stdout",
     "output_type": "stream",
     "text": [
      "detector_output: []\n",
      "objs_pixels_centroids: {0: (114, 275), 1: (127, 399), 2: (273, 232)}\n",
      "[INFO] [1624808130.317580, 1897.080000]: Observed: ['object_0_with_hue_50.0 - NO LABEL', 'object_1_with_hue_85.0 - NO LABEL', 'object_2_with_hue_128.0 - NO LABEL']\n"
     ]
    },
    {
     "ename": "NameError",
     "evalue": "name 'get_chosen_object' is not defined",
     "output_type": "error",
     "traceback": [
      "\u001b[0;31m\u001b[0m",
      "\u001b[0;31mNameError\u001b[0mTraceback (most recent call last)",
      "\u001b[0;32m<ipython-input-6-43e41c495992>\u001b[0m in \u001b[0;36m<module>\u001b[0;34m()\u001b[0m\n\u001b[1;32m     55\u001b[0m         \u001b[0mstr\u001b[0m\u001b[0;34m(\u001b[0m\u001b[0;34m[\u001b[0m\u001b[0mobj\u001b[0m\u001b[0;34m.\u001b[0m\u001b[0mname\u001b[0m \u001b[0;34m+\u001b[0m \u001b[0;34m\" - \"\u001b[0m \u001b[0;34m+\u001b[0m \u001b[0;34m(\u001b[0m\u001b[0mobj\u001b[0m\u001b[0;34m.\u001b[0m\u001b[0mlabel\u001b[0m \u001b[0;32mif\u001b[0m \u001b[0mobj\u001b[0m\u001b[0;34m.\u001b[0m\u001b[0mlabel\u001b[0m \u001b[0;32melse\u001b[0m \u001b[0;34m\"NO LABEL\"\u001b[0m\u001b[0;34m)\u001b[0m \u001b[0;32mfor\u001b[0m \u001b[0mobj\u001b[0m \u001b[0;32min\u001b[0m \u001b[0mcurrent_objects\u001b[0m\u001b[0;34m.\u001b[0m\u001b[0mvalues\u001b[0m\u001b[0;34m(\u001b[0m\u001b[0;34m)\u001b[0m\u001b[0;34m]\u001b[0m\u001b[0;34m)\u001b[0m\u001b[0;34m\u001b[0m\u001b[0m\n\u001b[1;32m     56\u001b[0m     ))\n\u001b[0;32m---> 57\u001b[0;31m     \u001b[0mobj\u001b[0m\u001b[0;34m,\u001b[0m \u001b[0muid_by_distance\u001b[0m \u001b[0;34m=\u001b[0m \u001b[0mget_chosen_object\u001b[0m\u001b[0;34m(\u001b[0m\u001b[0mcurrent_objects\u001b[0m\u001b[0;34m,\u001b[0m \u001b[0mprevious_convex_footprints\u001b[0m\u001b[0;34m,\u001b[0m \u001b[0mparams\u001b[0m\u001b[0;34m[\u001b[0m\u001b[0;34m\"pose_z_min\"\u001b[0m\u001b[0;34m]\u001b[0m\u001b[0;34m,\u001b[0m \u001b[0mparams\u001b[0m\u001b[0;34m[\u001b[0m\u001b[0;34m\"pose_z_max\"\u001b[0m\u001b[0;34m]\u001b[0m\u001b[0;34m,\u001b[0m \u001b[0mparams\u001b[0m\u001b[0;34m[\u001b[0m\u001b[0;34m\"xy_polygon\"\u001b[0m\u001b[0;34m]\u001b[0m\u001b[0;34m)\u001b[0m\u001b[0;34m\u001b[0m\u001b[0m\n\u001b[0m\u001b[1;32m     58\u001b[0m     \u001b[0;32mif\u001b[0m \u001b[0mobj\u001b[0m\u001b[0;34m:\u001b[0m\u001b[0;34m\u001b[0m\u001b[0m\n\u001b[1;32m     59\u001b[0m         \u001b[0mrospy\u001b[0m\u001b[0;34m.\u001b[0m\u001b[0mloginfo\u001b[0m\u001b[0;34m(\u001b[0m\u001b[0;34m\"Chosen object is: {} - {}\"\u001b[0m\u001b[0;34m.\u001b[0m\u001b[0mformat\u001b[0m\u001b[0;34m(\u001b[0m\u001b[0mobj\u001b[0m\u001b[0;34m.\u001b[0m\u001b[0mname\u001b[0m\u001b[0;34m,\u001b[0m \u001b[0;34m(\u001b[0m\u001b[0mobj\u001b[0m\u001b[0;34m.\u001b[0m\u001b[0mlabel\u001b[0m \u001b[0;32mif\u001b[0m \u001b[0mobj\u001b[0m\u001b[0;34m.\u001b[0m\u001b[0mlabel\u001b[0m \u001b[0;32melse\u001b[0m \u001b[0;34m\"NO LABEL\"\u001b[0m\u001b[0;34m)\u001b[0m\u001b[0;34m)\u001b[0m\u001b[0;34m)\u001b[0m\u001b[0;34m\u001b[0m\u001b[0m\n",
      "\u001b[0;31mNameError\u001b[0m: name 'get_chosen_object' is not defined"
     ]
    }
   ],
   "source": [
    "time_watchdog_thread = threading.Thread(target=utils.time_watchdog, args={\"max_minutes\": 19, \"max_seconds\": 50})\n",
    "time_watchdog_thread.start()\n",
    "\n",
    "previous_convex_footprints = []\n",
    "\n",
    "area_params = [\n",
    "    {\n",
    "        \"observation_goal\": utils.IN_FRONT_LARGE_TABLE_GROUND_OBJECTS_GOAL,\n",
    "        \"observation_tilt\": -0.85,\n",
    "        \"joints_for_hovering\": [0.4] + [math.radians(a) for a in [-107., 0., -73., 0., 0.]],\n",
    "        \"lowest_arm_height\": 0.,\n",
    "        \"pose_z_min\": 0.,\n",
    "        \"pose_z_max\": utils.LARGE_TABLE_HEIGHT,\n",
    "        \"xy_polygon\": utils.GROUND_OBJECTS_AREA\n",
    "    },\n",
    "    {\n",
    "        \"observation_goal\": utils.IN_FRONT_SMALL_TABLE_GROUND_OBJECTS_GOAL,\n",
    "        \"observation_tilt\": -0.85,\n",
    "        \"joints_for_hovering\": [0.4] + [math.radians(a) for a in [-107., 0., -73., 0., 0.]],\n",
    "        \"lowest_arm_height\": 0.,\n",
    "        \"pose_z_min\": 0.,\n",
    "        \"pose_z_max\": utils.LARGE_TABLE_HEIGHT,\n",
    "        \"xy_polygon\": utils.GROUND_OBJECTS_AREA\n",
    "    },\n",
    "    {\n",
    "        \"observation_goal\": utils.CLOSER_TO_LARGE_TABLE_GOAL,\n",
    "        \"observation_tilt\": -0.5,\n",
    "        \"joints_for_hovering\": [0.59] + [math.radians(a) for a in [-90., 0., -90., 0., 0.]],\n",
    "        \"lowest_arm_height\": 0.33,\n",
    "        \"pose_z_min\": utils.LARGE_TABLE_HEIGHT,\n",
    "        \"pose_z_max\": utils.LARGE_TABLE_HEIGHT + 1.,\n",
    "        \"xy_polygon\": utils.LARGE_TABLE_OBJECTS_AREA\n",
    "    },\n",
    "    {\n",
    "        \"observation_goal\": utils.CLOSER_TO_SMALL_TABLE_GOAL,\n",
    "        \"observation_tilt\": -0.5,\n",
    "        \"joints_for_hovering\": [0.69] + [math.radians(a) for a in [-90., 0., -90., 0., 0.]],\n",
    "        \"lowest_arm_height\": 0.53,\n",
    "        \"pose_z_min\": utils.SMALL_TABLE_HEIGHT,\n",
    "        \"pose_z_max\": utils.SMALL_TABLE_HEIGHT + 1.,\n",
    "        \"xy_polygon\": utils.SMALL_TABLE_OBJECTS_AREA\n",
    "    }\n",
    "]\n",
    "\n",
    "params = area_params.pop(0)\n",
    "\n",
    "while True: \n",
    "    rospy.loginfo(\"Moving to observation point.\")\n",
    "    robot.move_base_actual_goal(params[\"observation_goal\"])\n",
    "    rospy.loginfo(\"Moved to observation point.\")\n",
    "    robot.move_head_tilt(params[\"observation_tilt\"])\n",
    "    rospy.loginfo(\"Observing...\")\n",
    "    current_objects = scene.wait_for_one_detection(use_labels=True)\n",
    "    rospy.loginfo(\"Observed: {}\".format(\n",
    "        str([obj.name + \" - \" + (obj.label if obj.label else \"NO LABEL\") for obj in current_objects.values()])\n",
    "    ))\n",
    "    obj, uid_by_distance = get_chosen_object(current_objects, previous_convex_footprints, params[\"pose_z_min\"], params[\"pose_z_max\"], params[\"xy_polygon\"])\n",
    "    if obj:\n",
    "        rospy.loginfo(\"Chosen object is: {} - {}\".format(obj.name, (obj.label if obj.label else \"NO LABEL\")))\n",
    "        if isinstance(obj.convex_footprint, Polygon):\n",
    "            previous_convex_footprints.append(obj.convex_footprint)\n",
    "        else:\n",
    "            previous_convex_footprints.append(obj.convex_footprint.buffer(0.05))\n",
    "        is_objet_picked = pick_object_away(obj, params[\"joints_for_hovering\"], params[\"lowest_arm_height\"])\n",
    "        if not is_objet_picked:\n",
    "            rospy.loginfo(\"Object {} - {}: FAILED PICKING.\".format(obj.name, (obj.label if obj.label else \"NO LABEL\")))\n",
    "            continue\n",
    "        else:\n",
    "            rospy.loginfo(\"Object {} - {}: SUCCESSFULLY PICKED.\".format(obj.name, (obj.label if obj.label else \"NO LABEL\")))\n",
    "            robot.move_head_tilt(0.)\n",
    "            \n",
    "            nav_goal, goal_point, arm_height = choose_object_destination(obj)\n",
    "            rospy.loginfo(\"Object {} - {}: MOVING TO {}, GOAL POINT {}, ARM HEIGHT {}.\".format(\n",
    "                obj.name, (obj.label if obj.label else \"NO LABEL\"), str(nav_goal), str(goal_point), str(arm_height)\n",
    "            ))\n",
    "\n",
    "            robot.move_base_actual_goal(nav_goal)\n",
    "            rospy.loginfo(\"Object {} - {}: MOVED TO {}.\".format(obj.name, (obj.label if obj.label else \"NO LABEL\"), str(nav_goal)))\n",
    "\n",
    "            put_object_down_at_place(obj, goal_point, arm_height)\n",
    "            rospy.loginfo(\"Object {} - {}: PUT DOWN AT {}.\".format(obj.name, (obj.label if obj.label else \"NO LABEL\"), str(goal_point)))\n",
    "            \n",
    "            if goal_point == utils.TRAY_A_1[0]:\n",
    "                tray_a_counter += 1\n",
    "            elif goal_point == utils.TRAY_B_1[0]:\n",
    "                tray_b_counter += 1\n",
    "    else:\n",
    "        rospy.loginfo(\"No object to move could be found.\")\n",
    "        try:\n",
    "            params = area_params.pop(0)\n",
    "        except Exception:\n",
    "            break"
   ]
  },
  {
   "cell_type": "code",
   "execution_count": null,
   "metadata": {},
   "outputs": [],
   "source": [
    "###########################"
   ]
  },
  {
   "cell_type": "code",
   "execution_count": null,
   "metadata": {},
   "outputs": [],
   "source": [
    "###########################"
   ]
  },
  {
   "cell_type": "code",
   "execution_count": null,
   "metadata": {},
   "outputs": [],
   "source": [
    "###########################"
   ]
  },
  {
   "cell_type": "code",
   "execution_count": null,
   "metadata": {},
   "outputs": [],
   "source": [
    "###########################"
   ]
  },
  {
   "cell_type": "code",
   "execution_count": null,
   "metadata": {},
   "outputs": [],
   "source": [
    "###########################"
   ]
  },
  {
   "cell_type": "code",
   "execution_count": 6,
   "metadata": {},
   "outputs": [
    {
     "data": {
      "text/plain": [
       "True"
      ]
     },
     "execution_count": 6,
     "metadata": {},
     "output_type": "execute_result"
    }
   ],
   "source": [
    "robot.move_base_actual_goal(utils.BESIDES_BIN_GOAL)\n",
    "robot.move_base_actual_goal(utils.BESIDES_BINS_TURN_GOAL)\n",
    "robot.move_base_actual_goal(utils.OBSTACLE_AVOIDANCE_AREA_GOAL)"
   ]
  },
  {
   "cell_type": "code",
   "execution_count": 7,
   "metadata": {},
   "outputs": [
    {
     "data": {
      "text/plain": [
       "True"
      ]
     },
     "execution_count": 7,
     "metadata": {},
     "output_type": "execute_result"
    }
   ],
   "source": [
    "robot.move_head_tilt(-1)"
   ]
  },
  {
   "cell_type": "code",
   "execution_count": 8,
   "metadata": {},
   "outputs": [
    {
     "name": "stdout",
     "output_type": "stream",
     "text": [
      "[INFO] [1624807350.129077, 1435.506000]: Cloud Callback called.\n"
     ]
    }
   ],
   "source": [
    "current_objects = scene.wait_for_one_detection()"
   ]
  },
  {
   "cell_type": "code",
   "execution_count": 9,
   "metadata": {},
   "outputs": [],
   "source": [
    "def get_sorted_obj_list_by_distance(cur_objects):\n",
    "    robot.tf_listener.waitForTransform(\"map\", \"base_link\", rospy.Time(0),rospy.Duration(4.0))\n",
    "    robot_transform = robot.tf_listener.lookupTransform(\"map\", \"base_link\", rospy.Time(0))\n",
    "    robot_pose_in_map = robot_transform[0][0], robot_transform[0][1], math.degrees(tf.transformations.euler_from_quaternion(robot_transform[1])[2])\n",
    "\n",
    "    uid_by_distance = []\n",
    "    uid_to_convex_footprint = {}\n",
    "    for uid, obj in cur_objects.items():\n",
    "        convex_footprint = MultiPoint(obj.bb_coords_2d).convex_hull    \n",
    "        if convex_footprint.intersects(utils.TABOO_AREA_POLYGON):\n",
    "            min_distance = float(\"inf\")\n",
    "            for coord in obj.bb_coords_2d:\n",
    "                min_distance = min(min_distance, utils.euclidean_distance(coord, robot_pose_in_map))\n",
    "            uid_by_distance.append((uid, min_distance))\n",
    "            uid_to_convex_footprint[uid] = convex_footprint\n",
    "    uid_by_distance = sorted(uid_by_distance, key=lambda tup: tup[1])\n",
    "    return uid_by_distance"
   ]
  },
  {
   "cell_type": "code",
   "execution_count": 10,
   "metadata": {},
   "outputs": [],
   "source": [
    "def pick_object_away(obj):    \n",
    "    # Compute angle for robot base to face arm parallel direction between base_link and object\n",
    "    o_x, o_y = robot.get_diff_between(\"base_link\", obj.name)\n",
    "    yaw = math.pi/2. - math.atan2(o_x, o_y)\n",
    "\n",
    "    joints_for_facing_object = robot.base.get_current_joint_values()\n",
    "    joints_for_facing_object[2] += yaw\n",
    "\n",
    "    robot.base.set_joint_value_target(joints_for_facing_object)\n",
    "    robot.base.go()\n",
    "    \n",
    "    # Set to picking pose\n",
    "    joints_for_arm_picking_from_ground = [0.1] + [math.radians(a) for a in [-107., 0., -73., 0., 0.]]\n",
    "    robot.arm.set_joint_value_target(joints_for_arm_picking_from_ground)\n",
    "    robot.arm.go()\n",
    "    robot.open_hand()\n",
    "    \n",
    "    # Compute translation for robot base to actually face the object\n",
    "    a_x, a_y = robot.get_diff_between(\"base_link\", \"arm_flex_link\")\n",
    "\n",
    "    robot.tf_listener.waitForTransform(\"/base_link\", \"/odom\", rospy.Time(0),rospy.Duration(4.0))\n",
    "    point=PointStamped()\n",
    "    point.header.frame_id = \"base_link\"\n",
    "    point.header.stamp =rospy.Time(0)\n",
    "    point.point.y= -a_y\n",
    "    p=robot.tf_listener.transformPoint(\"odom\", point)\n",
    "\n",
    "    joints_for_going_to_object = robot.base.get_current_joint_values()\n",
    "    joints_for_going_to_object[0] = p.point.y\n",
    "    joints_for_going_to_object[1] = p.point.x\n",
    "\n",
    "    robot.base.set_joint_value_target(joints_for_going_to_object)\n",
    "    robot.base.go()\n",
    "    \n",
    "    # Compute translation for robot base to get the object and get it\n",
    "    oo_x, oo_y = robot.get_diff_between(\"odom\", obj.name)\n",
    "    ho_x, ho_y = robot.get_diff_between(\"odom\", \"hand_palm_link\")\n",
    "\n",
    "    joints_for_catching_to_object = robot.base.get_current_joint_values()\n",
    "    joints_for_catching_to_object[0] += oo_y - ho_y\n",
    "    joints_for_catching_to_object[1] += oo_x - ho_x\n",
    "\n",
    "    robot.base.set_joint_value_target(joints_for_catching_to_object)\n",
    "    robot.base.go()\n",
    "    \n",
    "    # Lower arm\n",
    "    joints_for_lower_arm_picking_from_ground = robot.arm.get_current_joint_values()\n",
    "    joints_for_lower_arm_picking_from_ground[0] = 0.\n",
    "    robot.arm.set_joint_value_target(joints_for_lower_arm_picking_from_ground)\n",
    "    robot.arm.go()\n",
    "    \n",
    "    # Pick\n",
    "    robot.close_hand()\n",
    "    \n",
    "    # Move arm up\n",
    "    robot.arm.set_joint_value_target(joints_for_arm_picking_from_ground)\n",
    "    robot.arm.go()\n",
    "    \n",
    "    # Keep it close to your heart\n",
    "    robot.move_arm_init()\n",
    "    \n",
    "    if robot.is_hand_fully_closed():\n",
    "        return False\n",
    "    \n",
    "    # Turn 180deg\n",
    "    joints_turn_180_deg = robot.base.get_current_joint_values()\n",
    "    joints_turn_180_deg[2] -= math.radians(180)\n",
    "    robot.base.set_joint_value_target(joints_turn_180_deg)\n",
    "    robot.base.go()\n",
    "    \n",
    "    # Deliver\n",
    "    robot.arm.set_joint_value_target(joints_for_arm_picking_from_ground)\n",
    "    robot.arm.go()\n",
    "    robot.open_hand()\n",
    "    robot.shake_wrist()\n",
    "    \n",
    "    # Reset arm pose\n",
    "    robot.move_arm_init()\n",
    "    robot.close_hand()\n",
    "    \n",
    "    # Turn 180deg again\n",
    "    joints_turn_180_deg = robot.base.get_current_joint_values()\n",
    "    joints_turn_180_deg[2] += math.radians(180)\n",
    "    robot.base.set_joint_value_target(joints_turn_180_deg)\n",
    "    robot.base.go()\n",
    "    \n",
    "    return True"
   ]
  },
  {
   "cell_type": "code",
   "execution_count": 11,
   "metadata": {},
   "outputs": [],
   "source": [
    "uid_by_distance = get_sorted_obj_list_by_distance(current_objects)"
   ]
  },
  {
   "cell_type": "code",
   "execution_count": 12,
   "metadata": {},
   "outputs": [],
   "source": [
    "# Initial base joints\n",
    "joints_for_going_back = robot.base.get_current_joint_values()\n",
    "\n",
    "is_object_moved = True\n",
    "for (uid, _) in uid_by_distance:\n",
    "    obj = current_objects[uid]\n",
    "    is_object_moved = pick_object_away(obj)\n",
    "    joints_for_going_back = robot.base.get_current_joint_values()\n",
    "    if not is_object_moved:\n",
    "        break\n",
    "if not is_object_moved:\n",
    "    robot.base.set_joint_value_target(joints_for_going_back)\n",
    "    robot.base.go()\n",
    "    current_objects = scene.wait_for_one_detection()\n",
    "    uid_by_distance = get_sorted_obj_list_by_distance(current_objects)\n",
    "    for (uid, _) in uid_by_distance:\n",
    "        obj = current_objects[uid]\n",
    "        pick_object_away(obj)"
   ]
  },
  {
   "cell_type": "code",
   "execution_count": 13,
   "metadata": {},
   "outputs": [
    {
     "data": {
      "text/plain": [
       "True"
      ]
     },
     "execution_count": 13,
     "metadata": {},
     "output_type": "execute_result"
    }
   ],
   "source": [
    "robot.move_arm_init()\n",
    "robot.close_hand()"
   ]
  },
  {
   "cell_type": "code",
   "execution_count": 14,
   "metadata": {},
   "outputs": [
    {
     "data": {
      "text/plain": [
       "True"
      ]
     },
     "execution_count": 14,
     "metadata": {},
     "output_type": "execute_result"
    }
   ],
   "source": [
    "robot.move_head_tilt(-0.9)"
   ]
  },
  {
   "cell_type": "code",
   "execution_count": 15,
   "metadata": {},
   "outputs": [],
   "source": [
    "enter_room_02_goal_str = '{\"header\": {\"stamp\": {\"secs\": 688, \"nsecs\": 512000000}, \"frame_id\": \"\", \"seq\": 11}, \"goal_id\": {\"stamp\": {\"secs\": 0, \"nsecs\": 0}, \"id\": \"\"}, \"goal\": {\"target_pose\": {\"header\": {\"stamp\": {\"secs\": 688, \"nsecs\": 512000000}, \"frame_id\": \"map\", \"seq\": 11}, \"pose\": {\"position\": {\"y\": 2.9992051124572754, \"x\": 2.3737993240356445, \"z\": 0.0}, \"orientation\": {\"y\": 0.0, \"x\": 0.0, \"z\": 0.7056854446361143, \"w\": 0.708525266471655}}}}}'\n",
    "enter_room_02_goal = json_message_converter.convert_json_to_ros_message('move_base_msgs/MoveBaseActionGoal', enter_room_02_goal_str).goal"
   ]
  },
  {
   "cell_type": "code",
   "execution_count": 16,
   "metadata": {},
   "outputs": [
    {
     "data": {
      "text/plain": [
       "True"
      ]
     },
     "execution_count": 16,
     "metadata": {},
     "output_type": "execute_result"
    }
   ],
   "source": [
    "robot.move_base_actual_goal(enter_room_02_goal)"
   ]
  },
  {
   "cell_type": "code",
   "execution_count": 17,
   "metadata": {},
   "outputs": [],
   "source": [
    "in_front_shelf_goal_str = '{\"header\": {\"stamp\": {\"secs\": 607, \"nsecs\": 362000000}, \"frame_id\": \"\", \"seq\": 6}, \"goal_id\": {\"stamp\": {\"secs\": 0, \"nsecs\": 0}, \"id\": \"\"}, \"goal\": {\"target_pose\": {\"header\": {\"stamp\": {\"secs\": 607, \"nsecs\": 353000000}, \"frame_id\": \"map\", \"seq\": 6}, \"pose\": {\"position\": {\"y\": 3.7436118125915527, \"x\": 2.2750515937805176, \"z\": 0.0}, \"orientation\": {\"y\": 0.0, \"x\": 0.0, \"z\": 0.7071067966408575, \"w\": 0.7071067657322372}}}}}'\n",
    "in_front_shelf_goal = json_message_converter.convert_json_to_ros_message('move_base_msgs/MoveBaseActionGoal', in_front_shelf_goal_str).goal"
   ]
  },
  {
   "cell_type": "code",
   "execution_count": 18,
   "metadata": {},
   "outputs": [
    {
     "data": {
      "text/plain": [
       "True"
      ]
     },
     "execution_count": 18,
     "metadata": {},
     "output_type": "execute_result"
    }
   ],
   "source": [
    "robot.move_base_actual_goal(in_front_shelf_goal)"
   ]
  },
  {
   "cell_type": "code",
   "execution_count": 19,
   "metadata": {},
   "outputs": [
    {
     "data": {
      "text/plain": [
       "True"
      ]
     },
     "execution_count": 19,
     "metadata": {},
     "output_type": "execute_result"
    }
   ],
   "source": [
    "robot.move_head_tilt(-0.2)"
   ]
  },
  {
   "cell_type": "code",
   "execution_count": 20,
   "metadata": {},
   "outputs": [
    {
     "name": "stdout",
     "output_type": "stream",
     "text": [
      "[INFO] [1624807424.650206, 1489.923000]: Cloud Callback called.\n",
      "detector_output: [(312, 182, 348, 209, 330, 195, 'racquetball', 0.9442393183708191), (188, 171, 223, 201, 205, 186, 'racquetball', 0.9058994054794312), (345, 450, 387, 502, 366, 476, 'tuna', 0.8948007822036743), (288, 346, 353, 395, 320, 370, 'sugar', 0.7999929189682007), (330, 244, 384, 290, 357, 267, 'racquetball', 0.4960954189300537), (205, 410, 233, 471, 219, 440, 'tuna', 0.37247031927108765)]\n",
      "objs_pixels_centroids: {0: (177, 314), 1: (207, 419), 2: (207, 186), 3: (310, 370), 4: (321, 186), 5: (332, 195), 6: (358, 266), 7: (369, 475)}\n"
     ]
    }
   ],
   "source": [
    "current_objects = scene.wait_for_one_detection(use_labels=True)"
   ]
  },
  {
   "cell_type": "code",
   "execution_count": 21,
   "metadata": {},
   "outputs": [],
   "source": [
    "def get_chosen_object(cur_objects):\n",
    "\n",
    "    chosen_object = None\n",
    "\n",
    "    # Prioritize choosing objects that look like the required one\n",
    "    required_label = message_parser.get_object_darknet()\n",
    "    if required_label:\n",
    "        rospy.loginfo(\"Object to be delivered is: {}\".format(required_label))\n",
    "\n",
    "    # Choose closest object that fits in robot's hand by default otherwise\n",
    "    uid_by_distance = []\n",
    "    for uid, obj in cur_objects.items():\n",
    "        convex_footprint = MultiPoint(obj.bb_coords_2d).convex_hull\n",
    "        if isinstance(convex_footprint, Polygon):\n",
    "            obj_radius = utils.get_circumscribed_radius(convex_footprint)\n",
    "        else:\n",
    "            obj_radius = 0.00000000001\n",
    "        if obj_radius <= robot.GRASP_RADIUS:\n",
    "            x, _= robot.get_diff_between(\"base_link\", obj.name)\n",
    "            uid_by_distance.append((uid, x))\n",
    "            if required_label and obj.label == required_label:\n",
    "                chosen_object = obj\n",
    "\n",
    "    if not chosen_object:\n",
    "        uid_by_distance = sorted(uid_by_distance, key=lambda tup: tup[1])\n",
    "        if uid_by_distance:\n",
    "            chosen_object = cur_objects[uid_by_distance[0][0]]\n",
    "\n",
    "    if not chosen_object:\n",
    "        rospy.logwarn(\"No object was able to be chosen. Stopping robot.\")\n",
    "        sys.exit(0)\n",
    "        \n",
    "    return chosen_object"
   ]
  },
  {
   "cell_type": "code",
   "execution_count": 22,
   "metadata": {},
   "outputs": [
    {
     "name": "stdout",
     "output_type": "stream",
     "text": [
      "[INFO] [1624807431.296920, 1494.990000]: Object to be delivered is: tuna\n"
     ]
    }
   ],
   "source": [
    "chosen_object = get_chosen_object(current_objects)"
   ]
  },
  {
   "cell_type": "code",
   "execution_count": 23,
   "metadata": {},
   "outputs": [],
   "source": [
    "FIRST_SHELF_LINEAR_JOINT_HEIGHT = 0.21\n",
    "SECOND_SHELF_LINEAR_JOINT_HEIGHT = 0.51\n",
    "SECOND_SHELF_HEIGHT = 0.78\n",
    "\n",
    "def pick_object_from_shelf(obj):\n",
    "    # Identify related shelf\n",
    "    linear_joint_height = SECOND_SHELF_LINEAR_JOINT_HEIGHT if (obj.xyz_med[2] >= SECOND_SHELF_HEIGHT) else FIRST_SHELF_LINEAR_JOINT_HEIGHT\n",
    "    \n",
    "    # Save joints for pose in front of shelf\n",
    "    joints_for_going_back_in_front_shelf = robot.base.get_current_joint_values()\n",
    "    \n",
    "    # Open hand and go to straight arm joints\n",
    "    robot.open_hand()\n",
    "    straight_arm = [linear_joint_height] + [math.radians(a) for a in [-90., 0., 0., 0., 0.]]\n",
    "    robot.arm.set_joint_value_target(straight_arm)\n",
    "    robot.arm.go()\n",
    "    \n",
    "    # Move parallel direction from base link to object\n",
    "    diff_x, diff_y = robot.get_diff_between(\"base_link\", obj.name)\n",
    "    yaw = math.pi/2. - math.atan2(diff_x, diff_y)\n",
    "    math.degrees(yaw)\n",
    "    joints_for_facing_object = robot.base.get_current_joint_values()\n",
    "    joints_for_facing_object[2] += yaw\n",
    "    robot.base.set_joint_value_target(joints_for_facing_object)\n",
    "    robot.base.go()\n",
    "    \n",
    "    # Translate in front of object\n",
    "    a_x, a_y = robot.get_diff_between(\"base_link\", \"arm_flex_link\")\n",
    "    robot.tf_listener.waitForTransform(\"/base_link\", \"/odom\", rospy.Time(0),rospy.Duration(4.0))\n",
    "    point=PointStamped()\n",
    "    point.header.frame_id = \"base_link\"\n",
    "    point.header.stamp =rospy.Time(0)\n",
    "    point.point.y=-a_y\n",
    "    p=robot.tf_listener.transformPoint(\"odom\", point)\n",
    "    joints_for_going_to_object = robot.base.get_current_joint_values()\n",
    "    joints_for_going_to_object[0] = p.point.y\n",
    "    joints_for_going_to_object[1] = p.point.x\n",
    "    robot.base.set_joint_value_target(joints_for_going_to_object)\n",
    "    robot.base.go()\n",
    "    \n",
    "    # Translate to object\n",
    "#     obj_o_x, obj_o_y = robot.get_diff_between(\"odom\", obj.name)\n",
    "#     print(\"obj_o_x, obj_o_y: {}, {}\".format(obj_o_x, obj_o_y))\n",
    "    r_x, r_y = robot.get_diff_between(\"map\", \"hand_palm_link\")\n",
    "#     print(\"r_x, r_y: {}, {}\".format(r_x, r_y))\n",
    "    min_distance_to_robot = float(\"inf\")\n",
    "    nearest_o_x, nearest_o_y = robot.get_diff_between(\"map\", obj.name)\n",
    "#     print(\"nearest_o_x, nearest_o_y: {}, {}\".format(nearest_o_x, nearest_o_y))\n",
    "    for pixel in obj.pixels:\n",
    "        x, y, z = pixel.x, pixel.y, pixel.z\n",
    "        dist = utils.euclidean_distance((r_x, r_y), (x, y))\n",
    "        if dist < min_distance_to_robot:\n",
    "            min_distance_to_robot = dist\n",
    "            nearest_o_x, nearest_o_y, nearest_o_z = x, y, z\n",
    "#     print(\"nearest_o_x, nearest_o_y, nearest_o_z: {}, {}\".format(nearest_o_x, nearest_o_y, nearest_o_z))\n",
    "            \n",
    "    \n",
    "    robot.tf_listener.waitForTransform(\"/odom\", \"/map\", rospy.Time(0),rospy.Duration(4.0))\n",
    "    point=PointStamped()\n",
    "    point.header.frame_id = \"map\"\n",
    "    point.header.stamp =rospy.Time(0)\n",
    "    point.point.x=nearest_o_x\n",
    "    point.point.y=nearest_o_y\n",
    "    point.point.z=nearest_o_z\n",
    "    p=robot.tf_listener.transformPoint(\"odom\", point)\n",
    "    obj_o_x, obj_o_y = p.point.x, p.point.y\n",
    "#     print(\"obj_o_x, obj_o_y: {}, {}\".format(obj_o_x, obj_o_y))\n",
    "    ######\n",
    "    \n",
    "    ho_x, ho_y = robot.get_diff_between(\"odom\", \"hand_palm_link\")\n",
    "    joints_for_catching_to_object = robot.base.get_current_joint_values()\n",
    "    joints_for_catching_to_object[0] += obj_o_y - ho_y\n",
    "    joints_for_catching_to_object[1] += obj_o_x - ho_x\n",
    "    robot.base.set_joint_value_target(joints_for_catching_to_object)\n",
    "    robot.base.go()\n",
    "    \n",
    "    # Pick it\n",
    "    robot.close_hand()\n",
    "    \n",
    "    # Lift it slightly\n",
    "    joints_for_lifting_object = robot.arm.get_current_joint_values()\n",
    "    joints_for_lifting_object[0] += 0.01\n",
    "    robot.arm.set_joint_value_target(joints_for_lifting_object)\n",
    "    robot.arm.go()\n",
    "    \n",
    "    # Move back in front of shelf\n",
    "    joints_for_going_back_in_front_shelf_trans = robot.base.get_current_joint_values()\n",
    "    joints_for_going_back_in_front_shelf_trans[0] = joints_for_going_back_in_front_shelf[0]\n",
    "    joints_for_going_back_in_front_shelf_trans[1] = joints_for_going_back_in_front_shelf[1]\n",
    "    robot.base.set_joint_value_target(joints_for_going_back_in_front_shelf_trans)\n",
    "    robot.base.go()\n",
    "    joints_for_going_back_in_front_shelf_rot = robot.base.get_current_joint_values()\n",
    "    joints_for_going_back_in_front_shelf_rot[2] = joints_for_going_back_in_front_shelf[2]\n",
    "    robot.base.set_joint_value_target(joints_for_going_back_in_front_shelf_rot)\n",
    "    robot.base.go()\n",
    "    \n",
    "    # Keep object close to your heart\n",
    "    robot.move_arm_init()\n",
    "    \n",
    "    if robot.is_hand_fully_closed():\n",
    "        return False\n",
    "    \n",
    "    return True"
   ]
  },
  {
   "cell_type": "code",
   "execution_count": 24,
   "metadata": {},
   "outputs": [],
   "source": [
    "is_pick_success = pick_object_from_shelf(chosen_object)\n",
    "if not is_pick_success:\n",
    "    current_objects = scene.wait_for_one_detection(use_labels=True)\n",
    "    chosen_object = get_chosen_object(current_objects)\n",
    "    is_pick_success = pick_object_from_shelf(chosen_object)"
   ]
  },
  {
   "cell_type": "code",
   "execution_count": 25,
   "metadata": {},
   "outputs": [],
   "source": [
    "move_between_humans_goal_str = '{\"header\": {\"stamp\": {\"secs\": 134, \"nsecs\": 703000000}, \"frame_id\": \"\", \"seq\": 0}, \"goal_id\": {\"stamp\": {\"secs\": 0, \"nsecs\": 0}, \"id\": \"\"}, \"goal\": {\"target_pose\": {\"header\": {\"stamp\": {\"secs\": 134, \"nsecs\": 679000000}, \"frame_id\": \"map\", \"seq\": 0}, \"pose\": {\"position\": {\"y\": 3.857577323913574, \"x\": 1.0511448383331299, \"z\": 0.0}, \"orientation\": {\"y\": 0.0, \"x\": 0.0, \"z\": 0.9999999998344654, \"w\": -1.819530991026369e-05}}}}}'\n",
    "move_between_humans_goal = json_message_converter.convert_json_to_ros_message('move_base_msgs/MoveBaseActionGoal', move_between_humans_goal_str).goal"
   ]
  },
  {
   "cell_type": "code",
   "execution_count": 26,
   "metadata": {},
   "outputs": [
    {
     "data": {
      "text/plain": [
       "True"
      ]
     },
     "execution_count": 26,
     "metadata": {},
     "output_type": "execute_result"
    }
   ],
   "source": [
    "robot.move_base_actual_goal(move_between_humans_goal)"
   ]
  },
  {
   "cell_type": "code",
   "execution_count": 27,
   "metadata": {},
   "outputs": [
    {
     "name": "stdout",
     "output_type": "stream",
     "text": [
      "[INFO] [1624807484.193509, 1528.563000]: Object must be delivered to human: left\n"
     ]
    }
   ],
   "source": [
    "latest_human_side_instruction = message_parser.get_person()\n",
    "if latest_human_side_instruction:\n",
    "    rospy.loginfo(\"Object must be delivered to human: {}\".format(latest_human_side_instruction))\n",
    "\n",
    "if latest_human_side_instruction == \"right\":\n",
    "    in_front_human_right_goal_str = '{\"header\": {\"stamp\": {\"secs\": 176, \"nsecs\": 562000000}, \"frame_id\": \"\", \"seq\": 1}, \"goal_id\": {\"stamp\": {\"secs\": 0, \"nsecs\": 0}, \"id\": \"\"}, \"goal\": {\"target_pose\": {\"header\": {\"stamp\": {\"secs\": 176, \"nsecs\": 562000000}, \"frame_id\": \"map\", \"seq\": 1}, \"pose\": {\"position\": {\"y\": 3.909142017364502, \"x\": 0.40349310636520386, \"z\": 0.0}, \"orientation\": {\"y\": 0.0, \"x\": 0.0, \"z\": 0.9999394114821857, \"w\": -0.011007877391217903}}}}}'\n",
    "    in_front_human_right_goal = json_message_converter.convert_json_to_ros_message('move_base_msgs/MoveBaseActionGoal', in_front_human_right_goal_str).goal\n",
    "    robot.move_base_actual_goal(in_front_human_right_goal)\n",
    "    \n",
    "else:\n",
    "    in_front_human_left_goal_str = '{\"header\": {\"stamp\": {\"secs\": 209, \"nsecs\": 613000000}, \"frame_id\": \"\", \"seq\": 2}, \"goal_id\": {\"stamp\": {\"secs\": 0, \"nsecs\": 0}, \"id\": \"\"}, \"goal\": {\"target_pose\": {\"header\": {\"stamp\": {\"secs\": 209, \"nsecs\": 613000000}, \"frame_id\": \"map\", \"seq\": 2}, \"pose\": {\"position\": {\"y\": 2.8555641174316406, \"x\": 0.5514420866966248, \"z\": 0.0}, \"orientation\": {\"y\": 0.0, \"x\": 0.0, \"z\": 0.9999989738094117, \"w\": -0.0014326130403864133}}}}}'\n",
    "    in_front_human_left_goal = json_message_converter.convert_json_to_ros_message('move_base_msgs/MoveBaseActionGoal', in_front_human_left_goal_str).goal\n",
    "    robot.move_base_actual_goal(in_front_human_left_goal)"
   ]
  },
  {
   "cell_type": "code",
   "execution_count": 28,
   "metadata": {},
   "outputs": [
    {
     "data": {
      "text/plain": [
       "True"
      ]
     },
     "execution_count": 28,
     "metadata": {},
     "output_type": "execute_result"
    }
   ],
   "source": [
    "robot.move_arm_neutral()"
   ]
  },
  {
   "cell_type": "code",
   "execution_count": null,
   "metadata": {},
   "outputs": [],
   "source": [
    "# Fully exit code to stop simulation otherwise runs get too long\n",
    "os._exit(1)"
   ]
  },
  {
   "cell_type": "code",
   "execution_count": null,
   "metadata": {},
   "outputs": [],
   "source": []
  }
 ],
 "metadata": {
  "kernelspec": {
   "display_name": "Python 2",
   "language": "python",
   "name": "python2"
  },
  "language_info": {
   "codemirror_mode": {
    "name": "ipython",
    "version": 2
   },
   "file_extension": ".py",
   "mimetype": "text/x-python",
   "name": "python",
   "nbconvert_exporter": "python",
   "pygments_lexer": "ipython2",
   "version": "2.7.17"
  },
  "nbTranslate": {
   "displayLangs": [
    "*"
   ],
   "hotkey": "alt-t",
   "langInMainMenu": true,
   "sourceLang": "en",
   "targetLang": "fr",
   "useGoogleTranslate": true
  },
  "toc": {
   "base_numbering": 1,
   "nav_menu": {},
   "number_sections": true,
   "sideBar": true,
   "skip_h1_title": false,
   "title_cell": "Table of Contents",
   "title_sidebar": "Contents",
   "toc_cell": false,
   "toc_position": {},
   "toc_section_display": true,
   "toc_window_display": false
  }
 },
 "nbformat": 4,
 "nbformat_minor": 2
}
